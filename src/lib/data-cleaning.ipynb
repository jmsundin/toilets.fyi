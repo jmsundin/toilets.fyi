{
 "cells": [
  {
   "cell_type": "code",
   "execution_count": 2,
   "metadata": {},
   "outputs": [],
   "source": [
    "import pandas as pd"
   ]
  },
  {
   "cell_type": "code",
   "execution_count": 7,
   "metadata": {},
   "outputs": [
    {
     "name": "stdout",
     "output_type": "stream",
     "text": [
      "id                      0\n",
      "site                    1\n",
      "address                14\n",
      "latitude              363\n",
      "longitude             363\n",
      "hours                   7\n",
      "cleaning_frequency     46\n",
      "public                363\n",
      "content               363\n",
      "images                363\n",
      "operated_by            28\n",
      "author_id             360\n",
      "created_at            363\n",
      "updated_at            363\n",
      "dtype: int64\n"
     ]
    }
   ],
   "source": [
    "df = pd.read_csv('../../public/toilets_san_diego_ca.csv')\n",
    "print(df.isnull().sum())"
   ]
  },
  {
   "cell_type": "code",
   "execution_count": 11,
   "metadata": {},
   "outputs": [
    {
     "name": "stdout",
     "output_type": "stream",
     "text": [
      "id                    0\n",
      "site                  0\n",
      "address               0\n",
      "latitude              0\n",
      "longitude             0\n",
      "hours                 0\n",
      "cleaning_frequency    0\n",
      "public                0\n",
      "content               0\n",
      "images                0\n",
      "operated_by           0\n",
      "author_id             0\n",
      "created_at            0\n",
      "updated_at            0\n",
      "dtype: int64\n"
     ]
    }
   ],
   "source": [
    "df = df.fillna('Unknown')\n",
    "df.to_csv('../../public/toilets_san_diego_ca_cleaned.csv', index=False)\n",
    "df = pd.read_csv('../../public/toilets_san_diego_ca_cleaned.csv')\n",
    "print(df.isnull().sum())"
   ]
  },
  {
   "cell_type": "code",
   "execution_count": 15,
   "metadata": {},
   "outputs": [],
   "source": [
    "df = pd.read_csv('../../public/toilets_san_diego_ca_cleaned.csv')\n",
    "df = df.drop(columns=['id'])\n",
    "df.to_csv('../../public/toilets_san_diego_ca_cleaned.csv', index=False)"
   ]
  },
  {
   "cell_type": "code",
   "execution_count": 17,
   "metadata": {},
   "outputs": [],
   "source": [
    "df = pd.read_csv('../../public/toilets_san_diego_ca_cleaned.csv')\n",
    "# change columns latitude and longitude into numeric types\n",
    "df['latitude'] = 0\n",
    "df['longitude'] = 0\n",
    "df.to_csv('../../public/toilets_san_diego_ca_cleaned.csv', index=False)"
   ]
  },
  {
   "cell_type": "code",
   "execution_count": 21,
   "metadata": {},
   "outputs": [],
   "source": [
    "from datetime import datetime\n",
    "\n",
    "# Get the current date and time in UTC - Unix Timestamp\n",
    "current_timestamp = datetime.timestamp(datetime.now())\n",
    "\n",
    "df = pd.read_csv('../../public/toilets_san_diego_ca_cleaned.csv')\n",
    "df['public'] = True\n",
    "df['created_at'] = current_timestamp\n",
    "df['updated_at'] = current_timestamp\n",
    "df.to_csv('../../public/toilets_san_diego_ca_cleaned.csv', index=False)"
   ]
  },
  {
   "cell_type": "code",
   "execution_count": 41,
   "metadata": {},
   "outputs": [],
   "source": [
    "df = pd.read_csv('../../public/toilets_san_diego_ca_cleaned.csv')\n",
    "df['images'] = {}\n",
    "df.to_csv('../../public/toilets_san_diego_ca_cleaned.csv')\n",
    "df = df[['site', 'address', 'latitude', 'longitude', 'hours', 'cleaning_frequency', 'public', 'content', 'images', 'operated_by', 'author_id', 'created_at', 'updated_at']]\n",
    "# Assign an empty array to each entry in the 'images' column\n",
    "# `{}` is the syntax for an array in PostgreSQL\n",
    "df['images'] = [[] for _ in range(len(df))]\n",
    "df.to_csv('../../public/toilets_san_diego_ca_cleaned.csv', index=False)"
   ]
  },
  {
   "cell_type": "code",
   "execution_count": 52,
   "metadata": {},
   "outputs": [
    {
     "data": {
      "text/plain": [
       "0      Unknown\n",
       "1      Unknown\n",
       "2      Unknown\n",
       "3      Unknown\n",
       "4      Unknown\n",
       "        ...   \n",
       "358    Unknown\n",
       "359    Unknown\n",
       "360    Unknown\n",
       "361    Unknown\n",
       "362    Unknown\n",
       "Name: author_id, Length: 363, dtype: object"
      ]
     },
     "execution_count": 52,
     "metadata": {},
     "output_type": "execute_result"
    }
   ],
   "source": [
    "df = pd.read_csv('../../public/toilets_san_diego_ca_cleaned.csv')\n",
    "df['author_id']"
   ]
  },
  {
   "cell_type": "code",
   "execution_count": 54,
   "metadata": {},
   "outputs": [],
   "source": [
    "import psycopg2\n",
    "conn = psycopg2.connect(\"dbname=toilets_fyi user=postgres\")\n",
    "cur = conn.cursor()\n",
    "\n",
    "df = pd.read_csv('../../public/toilets_san_diego_ca_cleaned.csv')\n",
    "df['images'] = \"{}\"\n",
    "\n",
    "try:\n",
    "    for index, row in df.iterrows():\n",
    "        cur.execute(\"INSERT INTO toilets (site, address, latitude, longitude, hours, cleaning_frequency, public, content, images, operated_by, created_at, updated_at) VALUES (%s, %s, %s, %s, %s, %s, %s, %s, %s, %s, to_timestamp(%s), to_timestamp(%s))\", \n",
    "                    (row['site'], row['address'], row['latitude'], row['longitude'], row['hours'], row['cleaning_frequency'], row['public'], row['content'], row['images'], row['operated_by'], row['created_at'], row['updated_at']))\n",
    "\n",
    "except Exception as e:\n",
    "    print(e)\n",
    "    conn.rollback()\n",
    "\n",
    "conn.commit()\n",
    "cur.close()\n",
    "conn.close()\n"
   ]
  },
  {
   "cell_type": "code",
   "execution_count": 56,
   "metadata": {},
   "outputs": [
    {
     "name": "stdout",
     "output_type": "stream",
     "text": [
      "363\n"
     ]
    }
   ],
   "source": [
    "conn = psycopg2.connect(\"dbname=toilets_fyi user=postgres\")\n",
    "cur = conn.cursor()\n",
    "cur.execute(\"SELECT * FROM toilets\")\n",
    "print(len(cur.fetchall()))\n",
    "conn.close()"
   ]
  },
  {
   "cell_type": "code",
   "execution_count": null,
   "metadata": {},
   "outputs": [],
   "source": []
  }
 ],
 "metadata": {
  "kernelspec": {
   "display_name": "base",
   "language": "python",
   "name": "python3"
  },
  "language_info": {
   "codemirror_mode": {
    "name": "ipython",
    "version": 3
   },
   "file_extension": ".py",
   "mimetype": "text/x-python",
   "name": "python",
   "nbconvert_exporter": "python",
   "pygments_lexer": "ipython3",
   "version": "3.11.4"
  }
 },
 "nbformat": 4,
 "nbformat_minor": 2
}
